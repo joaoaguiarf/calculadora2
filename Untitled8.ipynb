{
  "nbformat": 4,
  "nbformat_minor": 0,
  "metadata": {
    "colab": {
      "provenance": [],
      "authorship_tag": "ABX9TyOw/3sKG9wNQ763pyJFU9az",
      "include_colab_link": true
    },
    "kernelspec": {
      "name": "python3",
      "display_name": "Python 3"
    },
    "language_info": {
      "name": "python"
    }
  },
  "cells": [
    {
      "cell_type": "markdown",
      "metadata": {
        "id": "view-in-github",
        "colab_type": "text"
      },
      "source": [
        "<a href=\"https://colab.research.google.com/github/joaoaguiarf/calculadora2/blob/main/Untitled8.ipynb\" target=\"_parent\"><img src=\"https://colab.research.google.com/assets/colab-badge.svg\" alt=\"Open In Colab\"/></a>"
      ]
    },
    {
      "cell_type": "code",
      "execution_count": 2,
      "metadata": {
        "colab": {
          "base_uri": "https://localhost:8080/"
        },
        "id": "QvrOd7R08SYk",
        "outputId": "105565dc-6957-4719-b2f3-33b9a920a589"
      },
      "outputs": [
        {
          "output_type": "stream",
          "name": "stdout",
          "text": [
            "\n",
            "Opções de operação:\n",
            "1: Soma\n",
            "2: Subtração\n",
            "3: Multiplicação\n",
            "4: Divisão\n",
            "0: Sair\n",
            "Escolha a operação desejada: 1\n",
            "Digite o primeiro valor: 89\n",
            "Digite o segundo valor: 89\n",
            "Resultado: 178.0\n",
            "\n",
            "Opções de operação:\n",
            "1: Soma\n",
            "2: Subtração\n",
            "3: Multiplicação\n",
            "4: Divisão\n",
            "0: Sair\n",
            "Escolha a operação desejada: 0\n",
            "Saindo da calculadora...\n"
          ]
        }
      ],
      "source": [
        "def calcular(operacao, num1, num2):\n",
        "    if operacao == 1:\n",
        "        return num1 + num2\n",
        "    elif operacao == 2:\n",
        "        return num1 - num2\n",
        "    elif operacao == 3:\n",
        "        return num1 * num2\n",
        "    elif operacao == 4:\n",
        "        if num2 != 0:\n",
        "            return num1 / num2\n",
        "        else:\n",
        "            mensagem = \"Erro: Divisão por zero.\"\n",
        "            print(mensagem)\n",
        "        return None\n",
        "\n",
        "while True:\n",
        "    print(\"\\nOpções de operação:\")\n",
        "    print(\"1: Soma\")\n",
        "    print(\"2: Subtração\")\n",
        "    print(\"3: Multiplicação\")\n",
        "    print(\"4: Divisão\")\n",
        "    print(\"0: Sair\")\n",
        "\n",
        "    escolha = input(\"Escolha a operação desejada: \")\n",
        "\n",
        "    if escolha == \"0\":\n",
        "        print(\"Saindo da calculadora...\")\n",
        "        break\n",
        "    elif escolha in [\"1\", \"2\", \"3\", \"4\"]:\n",
        "        num1 = float(input(\"Digite o primeiro valor: \"))\n",
        "        num2 = float(input(\"Digite o segundo valor: \"))\n",
        "\n",
        "        resultado = calcular(int(escolha), num1, num2)\n",
        "        if resultado is not None:\n",
        "            print(\"Resultado:\", resultado)\n",
        "    else:\n",
        "        print(\"Essa opção não existe.\")\n"
      ]
    }
  ]
}